{
 "cells": [
  {
   "cell_type": "code",
   "execution_count": 1,
   "id": "8c62109e-5bfb-4fb0-851f-1dc051f50d87",
   "metadata": {},
   "outputs": [],
   "source": [
    "import numpy as np\n",
    "import torch\n",
    "from pprint import pprint\n",
    "import random\n",
    "from pathlib import Path\n",
    "\n",
    "from utils.datasets import create_dataloader\n",
    "from utils.general import check_dataset"
   ]
  },
  {
   "cell_type": "code",
   "execution_count": 2,
   "id": "fa8dba1d-cc62-4309-b104-3116c4a77273",
   "metadata": {},
   "outputs": [],
   "source": [
    "BATCH_SIZE = 16\n",
    "torch.set_printoptions(threshold=1000000)\n",
    "np.set_printoptions(threshold=1000000)"
   ]
  },
  {
   "cell_type": "code",
   "execution_count": 3,
   "id": "67fbb7ab-2c8e-45c4-9046-5aa621ecbd3e",
   "metadata": {},
   "outputs": [
    {
     "name": "stderr",
     "output_type": "stream",
     "text": [
      "New cache created: /mnt/nfs/home/branhung/src/datasets/coco-box/val2017.cache\n"
     ]
    }
   ],
   "source": [
    "%%capture\n",
    "split = 'val'\n",
    "path = '/mnt/nfs/home/branhung/src/datasets/coco-box/' + split + ('-dev2017.txt' if split == 'test' else '2017.txt')\n",
    "imgsz, batch_size, stride = 640, 16, 32\n",
    "default_loader = create_dataloader(path, imgsz, batch_size, stride)[0]"
   ]
  },
  {
   "cell_type": "code",
   "execution_count": 5,
   "id": "344b727e-913b-481f-8ecf-7651f772c871",
   "metadata": {},
   "outputs": [
    {
     "data": {
      "text/plain": [
       "<utils.datasets.LoadImagesAndLabels at 0x7fd15f3b6370>"
      ]
     },
     "execution_count": 5,
     "metadata": {},
     "output_type": "execute_result"
    }
   ],
   "source": [
    "default_loader.dataset"
   ]
  },
  {
   "cell_type": "code",
   "execution_count": 15,
   "id": "44a3bcff-f79a-473a-a77c-5bde674db90f",
   "metadata": {},
   "outputs": [
    {
     "data": {
      "text/plain": [
       "{'path': '../datasets/coco128',\n",
       " 'train': '/mnt/nfs/home/branhung/src/datasets/coco128/images/train2017',\n",
       " 'val': '/mnt/nfs/home/branhung/src/datasets/coco128/images/train2017',\n",
       " 'test': None,\n",
       " 'nc': 80,\n",
       " 'names': ['person',\n",
       "  'bicycle',\n",
       "  'car',\n",
       "  'motorcycle',\n",
       "  'airplane',\n",
       "  'bus',\n",
       "  'train',\n",
       "  'truck',\n",
       "  'boat',\n",
       "  'traffic light',\n",
       "  'fire hydrant',\n",
       "  'stop sign',\n",
       "  'parking meter',\n",
       "  'bench',\n",
       "  'bird',\n",
       "  'cat',\n",
       "  'dog',\n",
       "  'horse',\n",
       "  'sheep',\n",
       "  'cow',\n",
       "  'elephant',\n",
       "  'bear',\n",
       "  'zebra',\n",
       "  'giraffe',\n",
       "  'backpack',\n",
       "  'umbrella',\n",
       "  'handbag',\n",
       "  'tie',\n",
       "  'suitcase',\n",
       "  'frisbee',\n",
       "  'skis',\n",
       "  'snowboard',\n",
       "  'sports ball',\n",
       "  'kite',\n",
       "  'baseball bat',\n",
       "  'baseball glove',\n",
       "  'skateboard',\n",
       "  'surfboard',\n",
       "  'tennis racket',\n",
       "  'bottle',\n",
       "  'wine glass',\n",
       "  'cup',\n",
       "  'fork',\n",
       "  'knife',\n",
       "  'spoon',\n",
       "  'bowl',\n",
       "  'banana',\n",
       "  'apple',\n",
       "  'sandwich',\n",
       "  'orange',\n",
       "  'broccoli',\n",
       "  'carrot',\n",
       "  'hot dog',\n",
       "  'pizza',\n",
       "  'donut',\n",
       "  'cake',\n",
       "  'chair',\n",
       "  'couch',\n",
       "  'potted plant',\n",
       "  'bed',\n",
       "  'dining table',\n",
       "  'toilet',\n",
       "  'tv',\n",
       "  'laptop',\n",
       "  'mouse',\n",
       "  'remote',\n",
       "  'keyboard',\n",
       "  'cell phone',\n",
       "  'microwave',\n",
       "  'oven',\n",
       "  'toaster',\n",
       "  'sink',\n",
       "  'refrigerator',\n",
       "  'book',\n",
       "  'clock',\n",
       "  'vase',\n",
       "  'scissors',\n",
       "  'teddy bear',\n",
       "  'hair drier',\n",
       "  'toothbrush'],\n",
       " 'download': 'https://ultralytics.com/assets/coco128.zip'}"
      ]
     },
     "execution_count": 15,
     "metadata": {},
     "output_type": "execute_result"
    }
   ],
   "source": [
    "from train import parse_opt\n",
    "from utils.general import check_dataset\n",
    "\n",
    "opt = parse_opt(True)\n",
    "check_dataset(opt.data)"
   ]
  },
  {
   "cell_type": "code",
   "execution_count": null,
   "id": "98510dc0-e832-48fb-aa9c-58bbd87e3904",
   "metadata": {},
   "outputs": [],
   "source": []
  }
 ],
 "metadata": {
  "kernelspec": {
   "display_name": "Python 3 (ipykernel)",
   "language": "python",
   "name": "python3"
  },
  "language_info": {
   "codemirror_mode": {
    "name": "ipython",
    "version": 3
   },
   "file_extension": ".py",
   "mimetype": "text/x-python",
   "name": "python",
   "nbconvert_exporter": "python",
   "pygments_lexer": "ipython3",
   "version": "3.9.10"
  }
 },
 "nbformat": 4,
 "nbformat_minor": 5
}
